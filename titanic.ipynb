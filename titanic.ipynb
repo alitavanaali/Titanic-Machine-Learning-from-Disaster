{
  "nbformat": 4,
  "nbformat_minor": 0,
  "metadata": {
    "colab": {
      "provenance": [],
      "collapsed_sections": [],
      "toc_visible": true,
      "authorship_tag": "ABX9TyMWDkt+LGOg2ZsmoTPMHsmU"
    },
    "kernelspec": {
      "name": "python3",
      "display_name": "Python 3"
    },
    "language_info": {
      "name": "python"
    }
  },
  "cells": [
    {
      "cell_type": "markdown",
      "source": [
        "# Libraries"
      ],
      "metadata": {
        "id": "DUgQqkie0ML0"
      }
    },
    {
      "cell_type": "code",
      "source": [
        "import os\n",
        "import numpy as np\n",
        "import pandas as pd\n",
        "import matplotlib.pyplot as plt\n",
        "plt.style.use('ggplot')\n",
        "import seaborn as sns\n",
        "from keras.models import Sequential\n",
        "from keras.layers import Dense, Activation, Input\n",
        "import tensorflow as tf\n",
        "import re"
      ],
      "metadata": {
        "id": "wi0c_k9D0KhR"
      },
      "execution_count": null,
      "outputs": []
    },
    {
      "cell_type": "code",
      "execution_count": null,
      "metadata": {
        "colab": {
          "base_uri": "https://localhost:8080/"
        },
        "id": "AjxS3DsjzU2b",
        "outputId": "09d1c148-fd73-4b16-a51e-34cd1485ca91"
      },
      "outputs": [
        {
          "output_type": "stream",
          "name": "stdout",
          "text": [
            "Mounted at /content/drive\n"
          ]
        }
      ],
      "source": [
        "from google.colab import drive\n",
        "drive.mount('/content/drive')\n",
        "drive_path = '/content/drive/MyDrive/Colab Notebooks/'"
      ]
    },
    {
      "cell_type": "markdown",
      "source": [
        "# Data Loading"
      ],
      "metadata": {
        "id": "CWMu5Jeb0SIP"
      }
    },
    {
      "cell_type": "markdown",
      "source": [
        "## loading"
      ],
      "metadata": {
        "id": "UB6zb7Mx-eVp"
      }
    },
    {
      "cell_type": "code",
      "source": [
        "def load_datasets():\n",
        "  # load the datasets and return them\n",
        "  print('loading started...')\n",
        "  train = pd.read_csv(drive_path + 'datasets/titanic/train.csv')\n",
        "  test = pd.read_csv(drive_path + 'datasets/titanic/test.csv')\n",
        "  gender_submission = pd.read_csv(drive_path + 'datasets/titanic/gender_submission.csv')\n",
        "  print('loading done!')\n",
        "  return train, test, gender_submission\n",
        "\n",
        "train, test, genderSubmission = load_datasets()"
      ],
      "metadata": {
        "colab": {
          "base_uri": "https://localhost:8080/"
        },
        "id": "_wMHb-HN0UZF",
        "outputId": "39c9430e-d0b0-4bea-8ae5-dd45c6c34aa0"
      },
      "execution_count": null,
      "outputs": [
        {
          "output_type": "stream",
          "name": "stdout",
          "text": [
            "loading started...\n",
            "loading done!\n"
          ]
        }
      ]
    },
    {
      "cell_type": "code",
      "source": [
        "train['Cabin'].map(lambda x: re.compile(\"([a-zA-Z]+)\").search(x))"
      ],
      "metadata": {
        "id": "jukJbyM9rgQr"
      },
      "execution_count": null,
      "outputs": []
    },
    {
      "cell_type": "code",
      "source": [
        "train.head(2)"
      ],
      "metadata": {
        "colab": {
          "base_uri": "https://localhost:8080/",
          "height": 223
        },
        "id": "Q3IxyzZJ04Yw",
        "outputId": "7b445c73-6fa8-4703-99ec-dff3af43247c"
      },
      "execution_count": null,
      "outputs": [
        {
          "output_type": "execute_result",
          "data": {
            "text/plain": [
              "   PassengerId  Survived  Pclass  \\\n",
              "0            1         0       3   \n",
              "1            2         1       1   \n",
              "\n",
              "                                                Name     Sex   Age  SibSp  \\\n",
              "0                            Braund, Mr. Owen Harris    male  22.0      1   \n",
              "1  Cumings, Mrs. John Bradley (Florence Briggs Th...  female  38.0      1   \n",
              "\n",
              "   Parch     Ticket     Fare Cabin Embarked  \n",
              "0      0  A/5 21171   7.2500   NaN        S  \n",
              "1      0   PC 17599  71.2833   C85        C  "
            ],
            "text/html": [
              "\n",
              "  <div id=\"df-97a996e2-744a-407d-bbbf-e6c300460f9b\">\n",
              "    <div class=\"colab-df-container\">\n",
              "      <div>\n",
              "<style scoped>\n",
              "    .dataframe tbody tr th:only-of-type {\n",
              "        vertical-align: middle;\n",
              "    }\n",
              "\n",
              "    .dataframe tbody tr th {\n",
              "        vertical-align: top;\n",
              "    }\n",
              "\n",
              "    .dataframe thead th {\n",
              "        text-align: right;\n",
              "    }\n",
              "</style>\n",
              "<table border=\"1\" class=\"dataframe\">\n",
              "  <thead>\n",
              "    <tr style=\"text-align: right;\">\n",
              "      <th></th>\n",
              "      <th>PassengerId</th>\n",
              "      <th>Survived</th>\n",
              "      <th>Pclass</th>\n",
              "      <th>Name</th>\n",
              "      <th>Sex</th>\n",
              "      <th>Age</th>\n",
              "      <th>SibSp</th>\n",
              "      <th>Parch</th>\n",
              "      <th>Ticket</th>\n",
              "      <th>Fare</th>\n",
              "      <th>Cabin</th>\n",
              "      <th>Embarked</th>\n",
              "    </tr>\n",
              "  </thead>\n",
              "  <tbody>\n",
              "    <tr>\n",
              "      <th>0</th>\n",
              "      <td>1</td>\n",
              "      <td>0</td>\n",
              "      <td>3</td>\n",
              "      <td>Braund, Mr. Owen Harris</td>\n",
              "      <td>male</td>\n",
              "      <td>22.0</td>\n",
              "      <td>1</td>\n",
              "      <td>0</td>\n",
              "      <td>A/5 21171</td>\n",
              "      <td>7.2500</td>\n",
              "      <td>NaN</td>\n",
              "      <td>S</td>\n",
              "    </tr>\n",
              "    <tr>\n",
              "      <th>1</th>\n",
              "      <td>2</td>\n",
              "      <td>1</td>\n",
              "      <td>1</td>\n",
              "      <td>Cumings, Mrs. John Bradley (Florence Briggs Th...</td>\n",
              "      <td>female</td>\n",
              "      <td>38.0</td>\n",
              "      <td>1</td>\n",
              "      <td>0</td>\n",
              "      <td>PC 17599</td>\n",
              "      <td>71.2833</td>\n",
              "      <td>C85</td>\n",
              "      <td>C</td>\n",
              "    </tr>\n",
              "  </tbody>\n",
              "</table>\n",
              "</div>\n",
              "      <button class=\"colab-df-convert\" onclick=\"convertToInteractive('df-97a996e2-744a-407d-bbbf-e6c300460f9b')\"\n",
              "              title=\"Convert this dataframe to an interactive table.\"\n",
              "              style=\"display:none;\">\n",
              "        \n",
              "  <svg xmlns=\"http://www.w3.org/2000/svg\" height=\"24px\"viewBox=\"0 0 24 24\"\n",
              "       width=\"24px\">\n",
              "    <path d=\"M0 0h24v24H0V0z\" fill=\"none\"/>\n",
              "    <path d=\"M18.56 5.44l.94 2.06.94-2.06 2.06-.94-2.06-.94-.94-2.06-.94 2.06-2.06.94zm-11 1L8.5 8.5l.94-2.06 2.06-.94-2.06-.94L8.5 2.5l-.94 2.06-2.06.94zm10 10l.94 2.06.94-2.06 2.06-.94-2.06-.94-.94-2.06-.94 2.06-2.06.94z\"/><path d=\"M17.41 7.96l-1.37-1.37c-.4-.4-.92-.59-1.43-.59-.52 0-1.04.2-1.43.59L10.3 9.45l-7.72 7.72c-.78.78-.78 2.05 0 2.83L4 21.41c.39.39.9.59 1.41.59.51 0 1.02-.2 1.41-.59l7.78-7.78 2.81-2.81c.8-.78.8-2.07 0-2.86zM5.41 20L4 18.59l7.72-7.72 1.47 1.35L5.41 20z\"/>\n",
              "  </svg>\n",
              "      </button>\n",
              "      \n",
              "  <style>\n",
              "    .colab-df-container {\n",
              "      display:flex;\n",
              "      flex-wrap:wrap;\n",
              "      gap: 12px;\n",
              "    }\n",
              "\n",
              "    .colab-df-convert {\n",
              "      background-color: #E8F0FE;\n",
              "      border: none;\n",
              "      border-radius: 50%;\n",
              "      cursor: pointer;\n",
              "      display: none;\n",
              "      fill: #1967D2;\n",
              "      height: 32px;\n",
              "      padding: 0 0 0 0;\n",
              "      width: 32px;\n",
              "    }\n",
              "\n",
              "    .colab-df-convert:hover {\n",
              "      background-color: #E2EBFA;\n",
              "      box-shadow: 0px 1px 2px rgba(60, 64, 67, 0.3), 0px 1px 3px 1px rgba(60, 64, 67, 0.15);\n",
              "      fill: #174EA6;\n",
              "    }\n",
              "\n",
              "    [theme=dark] .colab-df-convert {\n",
              "      background-color: #3B4455;\n",
              "      fill: #D2E3FC;\n",
              "    }\n",
              "\n",
              "    [theme=dark] .colab-df-convert:hover {\n",
              "      background-color: #434B5C;\n",
              "      box-shadow: 0px 1px 3px 1px rgba(0, 0, 0, 0.15);\n",
              "      filter: drop-shadow(0px 1px 2px rgba(0, 0, 0, 0.3));\n",
              "      fill: #FFFFFF;\n",
              "    }\n",
              "  </style>\n",
              "\n",
              "      <script>\n",
              "        const buttonEl =\n",
              "          document.querySelector('#df-97a996e2-744a-407d-bbbf-e6c300460f9b button.colab-df-convert');\n",
              "        buttonEl.style.display =\n",
              "          google.colab.kernel.accessAllowed ? 'block' : 'none';\n",
              "\n",
              "        async function convertToInteractive(key) {\n",
              "          const element = document.querySelector('#df-97a996e2-744a-407d-bbbf-e6c300460f9b');\n",
              "          const dataTable =\n",
              "            await google.colab.kernel.invokeFunction('convertToInteractive',\n",
              "                                                     [key], {});\n",
              "          if (!dataTable) return;\n",
              "\n",
              "          const docLinkHtml = 'Like what you see? Visit the ' +\n",
              "            '<a target=\"_blank\" href=https://colab.research.google.com/notebooks/data_table.ipynb>data table notebook</a>'\n",
              "            + ' to learn more about interactive tables.';\n",
              "          element.innerHTML = '';\n",
              "          dataTable['output_type'] = 'display_data';\n",
              "          await google.colab.output.renderOutput(dataTable, element);\n",
              "          const docLink = document.createElement('div');\n",
              "          docLink.innerHTML = docLinkHtml;\n",
              "          element.appendChild(docLink);\n",
              "        }\n",
              "      </script>\n",
              "    </div>\n",
              "  </div>\n",
              "  "
            ]
          },
          "metadata": {},
          "execution_count": 4
        }
      ]
    },
    {
      "cell_type": "code",
      "source": [
        "train.info()"
      ],
      "metadata": {
        "colab": {
          "base_uri": "https://localhost:8080/"
        },
        "id": "xUYQo9wPEs-6",
        "outputId": "55354106-dea3-4d31-85bc-4b2e19a6bec9"
      },
      "execution_count": null,
      "outputs": [
        {
          "output_type": "stream",
          "name": "stdout",
          "text": [
            "<class 'pandas.core.frame.DataFrame'>\n",
            "RangeIndex: 891 entries, 0 to 890\n",
            "Data columns (total 12 columns):\n",
            " #   Column       Non-Null Count  Dtype  \n",
            "---  ------       --------------  -----  \n",
            " 0   PassengerId  891 non-null    int64  \n",
            " 1   Survived     891 non-null    int64  \n",
            " 2   Pclass       891 non-null    int64  \n",
            " 3   Name         891 non-null    object \n",
            " 4   Sex          891 non-null    object \n",
            " 5   Age          714 non-null    float64\n",
            " 6   SibSp        891 non-null    int64  \n",
            " 7   Parch        891 non-null    int64  \n",
            " 8   Ticket       891 non-null    object \n",
            " 9   Fare         891 non-null    float64\n",
            " 10  Cabin        204 non-null    object \n",
            " 11  Embarked     889 non-null    object \n",
            "dtypes: float64(2), int64(5), object(5)\n",
            "memory usage: 83.7+ KB\n"
          ]
        }
      ]
    },
    {
      "cell_type": "code",
      "source": [
        "test.head()"
      ],
      "metadata": {
        "colab": {
          "base_uri": "https://localhost:8080/",
          "height": 282
        },
        "id": "Hx8OoFfl7Ijc",
        "outputId": "f1e0bb91-ed75-45b5-ea79-bdcdef40b96f"
      },
      "execution_count": null,
      "outputs": [
        {
          "output_type": "execute_result",
          "data": {
            "text/plain": [
              "   PassengerId  Pclass                                          Name     Sex  \\\n",
              "0          892       3                              Kelly, Mr. James    male   \n",
              "1          893       3              Wilkes, Mrs. James (Ellen Needs)  female   \n",
              "2          894       2                     Myles, Mr. Thomas Francis    male   \n",
              "3          895       3                              Wirz, Mr. Albert    male   \n",
              "4          896       3  Hirvonen, Mrs. Alexander (Helga E Lindqvist)  female   \n",
              "\n",
              "    Age  SibSp  Parch   Ticket     Fare Cabin Embarked  \n",
              "0  34.5      0      0   330911   7.8292   NaN        Q  \n",
              "1  47.0      1      0   363272   7.0000   NaN        S  \n",
              "2  62.0      0      0   240276   9.6875   NaN        Q  \n",
              "3  27.0      0      0   315154   8.6625   NaN        S  \n",
              "4  22.0      1      1  3101298  12.2875   NaN        S  "
            ],
            "text/html": [
              "\n",
              "  <div id=\"df-075e5eb8-7641-4d7f-a675-bc34bf4b16f1\">\n",
              "    <div class=\"colab-df-container\">\n",
              "      <div>\n",
              "<style scoped>\n",
              "    .dataframe tbody tr th:only-of-type {\n",
              "        vertical-align: middle;\n",
              "    }\n",
              "\n",
              "    .dataframe tbody tr th {\n",
              "        vertical-align: top;\n",
              "    }\n",
              "\n",
              "    .dataframe thead th {\n",
              "        text-align: right;\n",
              "    }\n",
              "</style>\n",
              "<table border=\"1\" class=\"dataframe\">\n",
              "  <thead>\n",
              "    <tr style=\"text-align: right;\">\n",
              "      <th></th>\n",
              "      <th>PassengerId</th>\n",
              "      <th>Pclass</th>\n",
              "      <th>Name</th>\n",
              "      <th>Sex</th>\n",
              "      <th>Age</th>\n",
              "      <th>SibSp</th>\n",
              "      <th>Parch</th>\n",
              "      <th>Ticket</th>\n",
              "      <th>Fare</th>\n",
              "      <th>Cabin</th>\n",
              "      <th>Embarked</th>\n",
              "    </tr>\n",
              "  </thead>\n",
              "  <tbody>\n",
              "    <tr>\n",
              "      <th>0</th>\n",
              "      <td>892</td>\n",
              "      <td>3</td>\n",
              "      <td>Kelly, Mr. James</td>\n",
              "      <td>male</td>\n",
              "      <td>34.5</td>\n",
              "      <td>0</td>\n",
              "      <td>0</td>\n",
              "      <td>330911</td>\n",
              "      <td>7.8292</td>\n",
              "      <td>NaN</td>\n",
              "      <td>Q</td>\n",
              "    </tr>\n",
              "    <tr>\n",
              "      <th>1</th>\n",
              "      <td>893</td>\n",
              "      <td>3</td>\n",
              "      <td>Wilkes, Mrs. James (Ellen Needs)</td>\n",
              "      <td>female</td>\n",
              "      <td>47.0</td>\n",
              "      <td>1</td>\n",
              "      <td>0</td>\n",
              "      <td>363272</td>\n",
              "      <td>7.0000</td>\n",
              "      <td>NaN</td>\n",
              "      <td>S</td>\n",
              "    </tr>\n",
              "    <tr>\n",
              "      <th>2</th>\n",
              "      <td>894</td>\n",
              "      <td>2</td>\n",
              "      <td>Myles, Mr. Thomas Francis</td>\n",
              "      <td>male</td>\n",
              "      <td>62.0</td>\n",
              "      <td>0</td>\n",
              "      <td>0</td>\n",
              "      <td>240276</td>\n",
              "      <td>9.6875</td>\n",
              "      <td>NaN</td>\n",
              "      <td>Q</td>\n",
              "    </tr>\n",
              "    <tr>\n",
              "      <th>3</th>\n",
              "      <td>895</td>\n",
              "      <td>3</td>\n",
              "      <td>Wirz, Mr. Albert</td>\n",
              "      <td>male</td>\n",
              "      <td>27.0</td>\n",
              "      <td>0</td>\n",
              "      <td>0</td>\n",
              "      <td>315154</td>\n",
              "      <td>8.6625</td>\n",
              "      <td>NaN</td>\n",
              "      <td>S</td>\n",
              "    </tr>\n",
              "    <tr>\n",
              "      <th>4</th>\n",
              "      <td>896</td>\n",
              "      <td>3</td>\n",
              "      <td>Hirvonen, Mrs. Alexander (Helga E Lindqvist)</td>\n",
              "      <td>female</td>\n",
              "      <td>22.0</td>\n",
              "      <td>1</td>\n",
              "      <td>1</td>\n",
              "      <td>3101298</td>\n",
              "      <td>12.2875</td>\n",
              "      <td>NaN</td>\n",
              "      <td>S</td>\n",
              "    </tr>\n",
              "  </tbody>\n",
              "</table>\n",
              "</div>\n",
              "      <button class=\"colab-df-convert\" onclick=\"convertToInteractive('df-075e5eb8-7641-4d7f-a675-bc34bf4b16f1')\"\n",
              "              title=\"Convert this dataframe to an interactive table.\"\n",
              "              style=\"display:none;\">\n",
              "        \n",
              "  <svg xmlns=\"http://www.w3.org/2000/svg\" height=\"24px\"viewBox=\"0 0 24 24\"\n",
              "       width=\"24px\">\n",
              "    <path d=\"M0 0h24v24H0V0z\" fill=\"none\"/>\n",
              "    <path d=\"M18.56 5.44l.94 2.06.94-2.06 2.06-.94-2.06-.94-.94-2.06-.94 2.06-2.06.94zm-11 1L8.5 8.5l.94-2.06 2.06-.94-2.06-.94L8.5 2.5l-.94 2.06-2.06.94zm10 10l.94 2.06.94-2.06 2.06-.94-2.06-.94-.94-2.06-.94 2.06-2.06.94z\"/><path d=\"M17.41 7.96l-1.37-1.37c-.4-.4-.92-.59-1.43-.59-.52 0-1.04.2-1.43.59L10.3 9.45l-7.72 7.72c-.78.78-.78 2.05 0 2.83L4 21.41c.39.39.9.59 1.41.59.51 0 1.02-.2 1.41-.59l7.78-7.78 2.81-2.81c.8-.78.8-2.07 0-2.86zM5.41 20L4 18.59l7.72-7.72 1.47 1.35L5.41 20z\"/>\n",
              "  </svg>\n",
              "      </button>\n",
              "      \n",
              "  <style>\n",
              "    .colab-df-container {\n",
              "      display:flex;\n",
              "      flex-wrap:wrap;\n",
              "      gap: 12px;\n",
              "    }\n",
              "\n",
              "    .colab-df-convert {\n",
              "      background-color: #E8F0FE;\n",
              "      border: none;\n",
              "      border-radius: 50%;\n",
              "      cursor: pointer;\n",
              "      display: none;\n",
              "      fill: #1967D2;\n",
              "      height: 32px;\n",
              "      padding: 0 0 0 0;\n",
              "      width: 32px;\n",
              "    }\n",
              "\n",
              "    .colab-df-convert:hover {\n",
              "      background-color: #E2EBFA;\n",
              "      box-shadow: 0px 1px 2px rgba(60, 64, 67, 0.3), 0px 1px 3px 1px rgba(60, 64, 67, 0.15);\n",
              "      fill: #174EA6;\n",
              "    }\n",
              "\n",
              "    [theme=dark] .colab-df-convert {\n",
              "      background-color: #3B4455;\n",
              "      fill: #D2E3FC;\n",
              "    }\n",
              "\n",
              "    [theme=dark] .colab-df-convert:hover {\n",
              "      background-color: #434B5C;\n",
              "      box-shadow: 0px 1px 3px 1px rgba(0, 0, 0, 0.15);\n",
              "      filter: drop-shadow(0px 1px 2px rgba(0, 0, 0, 0.3));\n",
              "      fill: #FFFFFF;\n",
              "    }\n",
              "  </style>\n",
              "\n",
              "      <script>\n",
              "        const buttonEl =\n",
              "          document.querySelector('#df-075e5eb8-7641-4d7f-a675-bc34bf4b16f1 button.colab-df-convert');\n",
              "        buttonEl.style.display =\n",
              "          google.colab.kernel.accessAllowed ? 'block' : 'none';\n",
              "\n",
              "        async function convertToInteractive(key) {\n",
              "          const element = document.querySelector('#df-075e5eb8-7641-4d7f-a675-bc34bf4b16f1');\n",
              "          const dataTable =\n",
              "            await google.colab.kernel.invokeFunction('convertToInteractive',\n",
              "                                                     [key], {});\n",
              "          if (!dataTable) return;\n",
              "\n",
              "          const docLinkHtml = 'Like what you see? Visit the ' +\n",
              "            '<a target=\"_blank\" href=https://colab.research.google.com/notebooks/data_table.ipynb>data table notebook</a>'\n",
              "            + ' to learn more about interactive tables.';\n",
              "          element.innerHTML = '';\n",
              "          dataTable['output_type'] = 'display_data';\n",
              "          await google.colab.output.renderOutput(dataTable, element);\n",
              "          const docLink = document.createElement('div');\n",
              "          docLink.innerHTML = docLinkHtml;\n",
              "          element.appendChild(docLink);\n",
              "        }\n",
              "      </script>\n",
              "    </div>\n",
              "  </div>\n",
              "  "
            ]
          },
          "metadata": {},
          "execution_count": 24
        }
      ]
    },
    {
      "cell_type": "code",
      "source": [
        "genderSubmission.head()"
      ],
      "metadata": {
        "id": "qh9_XOVXXtY3"
      },
      "execution_count": null,
      "outputs": []
    },
    {
      "cell_type": "markdown",
      "source": [
        "# Data Manipulation"
      ],
      "metadata": {
        "id": "iJMLnldpofhC"
      }
    },
    {
      "cell_type": "code",
      "source": [
        "men = train[train['Sex']=='male']\n",
        "men_survived = train.query(\"Sex == 'male' and Survived == 1 \")\n",
        "women = train[train['Sex']=='female']\n",
        "women_survived = train.query(\"Sex == 'female' and Survived == 1\")"
      ],
      "metadata": {
        "id": "xf03WeR2oh1L"
      },
      "execution_count": null,
      "outputs": []
    },
    {
      "cell_type": "markdown",
      "source": [
        "## Gender and Age impacts"
      ],
      "metadata": {
        "id": "4iW9gWvzwT5_"
      }
    },
    {
      "cell_type": "code",
      "source": [
        "fig, (ax1, ax2) = plt.subplots(2, 1, sharey=True, figsize=(15,10))\n",
        "ax1.bar(men.Age.value_counts().keys(), men.Age.value_counts(), label='presented', color='b', alpha=0.3)\n",
        "ax1.bar(men_survived.Age.value_counts().keys(), men_survived.Age.value_counts(), label='survived',color='r', alpha=1)\n",
        "ax1.set_title('Men')\n",
        "ax1.legend()\n",
        "ax2.bar(women.Age.value_counts().keys(), women.Age.value_counts(), label='presented', color='b', alpha=0.3)\n",
        "ax2.bar(women_survived.Age.value_counts().keys(), women_survived.Age.value_counts(), label='survived', color='r', alpha=1)\n",
        "ax2.set_title('Women')\n",
        "plt.legend()"
      ],
      "metadata": {
        "colab": {
          "base_uri": "https://localhost:8080/",
          "height": 646
        },
        "id": "ShZ9x4O2A58A",
        "outputId": "53e18aa1-14d9-42aa-f958-6d10ce399f18"
      },
      "execution_count": null,
      "outputs": [
        {
          "output_type": "execute_result",
          "data": {
            "text/plain": [
              "<matplotlib.legend.Legend at 0x7ff21cd9f210>"
            ]
          },
          "metadata": {},
          "execution_count": 6
        },
        {
          "output_type": "display_data",
          "data": {
            "text/plain": [
              "<Figure size 1080x720 with 2 Axes>"
            ],
            "image/png": "[encoded data removed]"
          },
          "metadata": {
            "needs_background": "light"
          }
        }
      ]
    },
    {
      "cell_type": "markdown",
      "source": [
        "## Ticket Class Impacts"
      ],
      "metadata": {
        "id": "qmIjVuCvzPE-"
      }
    },
    {
      "cell_type": "code",
      "source": [
        "pclass_survived = train[train['Survived']==1].Pclass.value_counts()\n",
        "pclass_death = train[train['Survived']==0].Pclass.value_counts()\n",
        "\n",
        "fig, (ax1, ax2) = plt.subplots(1, 2, sharey=True, figsize=(9,4))\n",
        "ax1.bar(pclass_survived.keys(), pclass_survived, label='Survived', color='g', alpha=1)\n",
        "ax1.set_title('Survived')\n",
        "ax1.set_xlabel('Ticket Class (first, second, third)')\n",
        "ax1.set_ylabel('Rate')\n",
        "ax1.legend()\n",
        "ax2.bar(pclass_death.keys(), pclass_death, label='Death', color='r', alpha=1)\n",
        "ax2.set_title('Death')\n",
        "ax2.set_xlabel('Ticket Class')\n",
        "plt.legend()"
      ],
      "metadata": {
        "colab": {
          "base_uri": "https://localhost:8080/",
          "height": 336
        },
        "id": "LkvOtG6H0msr",
        "outputId": "93874d90-a36f-4f2e-9dd3-10b1bc495ffe"
      },
      "execution_count": null,
      "outputs": [
        {
          "output_type": "execute_result",
          "data": {
            "text/plain": [
              "<matplotlib.legend.Legend at 0x7ff21b705590>"
            ]
          },
          "metadata": {},
          "execution_count": 32
        },
        {
          "output_type": "display_data",
          "data": {
            "text/plain": [
              "<Figure size 648x288 with 2 Axes>"
            ],
            "image/png": "[encoded data removed]"
          },
          "metadata": {
            "needs_background": "light"
          }
        }
      ]
    },
    {
      "cell_type": "markdown",
      "source": [
        "## Sibiling and spouse impacts"
      ],
      "metadata": {
        "id": "UqTVRjhm4BVs"
      }
    },
    {
      "cell_type": "code",
      "source": [
        "sibsp_survived = train[train['Survived']==1].SibSp.value_counts()\n",
        "sibsp_death = train[train['Survived']==0].SibSp.value_counts()"
      ],
      "metadata": {
        "id": "nOXax6FZ4E3g"
      },
      "execution_count": null,
      "outputs": []
    },
    {
      "cell_type": "code",
      "source": [
        "sibsp_survived.sort_index()"
      ],
      "metadata": {
        "colab": {
          "base_uri": "https://localhost:8080/"
        },
        "id": "7QU2MkNs4agI",
        "outputId": "dad31e24-946d-4231-d129-1eeb84923b2e"
      },
      "execution_count": null,
      "outputs": [
        {
          "output_type": "execute_result",
          "data": {
            "text/plain": [
              "0    210\n",
              "1    112\n",
              "2     13\n",
              "3      4\n",
              "4      3\n",
              "Name: SibSp, dtype: int64"
            ]
          },
          "metadata": {},
          "execution_count": 42
        }
      ]
    },
    {
      "cell_type": "code",
      "source": [
        "sibsp_death.sort_index()"
      ],
      "metadata": {
        "colab": {
          "base_uri": "https://localhost:8080/"
        },
        "id": "FCoyBaw64l7Z",
        "outputId": "fd50f491-e156-46d1-ae41-aae35ab1dbda"
      },
      "execution_count": null,
      "outputs": [
        {
          "output_type": "execute_result",
          "data": {
            "text/plain": [
              "0    398\n",
              "1     97\n",
              "2     15\n",
              "3     12\n",
              "4     15\n",
              "5      5\n",
              "8      7\n",
              "Name: SibSp, dtype: int64"
            ]
          },
          "metadata": {},
          "execution_count": 41
        }
      ]
    },
    {
      "cell_type": "markdown",
      "source": [
        "## Parent and Children Impacts"
      ],
      "metadata": {
        "id": "1PiwsXOp58ur"
      }
    },
    {
      "cell_type": "code",
      "source": [
        "parch_survived = train[train['Survived']==1].Parch.value_counts()\n",
        "parch_death = train[train['Survived']==0].Parch.value_counts()\n",
        "parch_survived.sort_index()"
      ],
      "metadata": {
        "colab": {
          "base_uri": "https://localhost:8080/"
        },
        "id": "2h-z2XNZ6AM-",
        "outputId": "0389c182-a5b9-4a6a-be29-5c6bb6b6bb4a"
      },
      "execution_count": null,
      "outputs": [
        {
          "output_type": "execute_result",
          "data": {
            "text/plain": [
              "0    233\n",
              "1     65\n",
              "2     40\n",
              "3      3\n",
              "5      1\n",
              "Name: Parch, dtype: int64"
            ]
          },
          "metadata": {},
          "execution_count": 43
        }
      ]
    },
    {
      "cell_type": "code",
      "source": [
        "parch_death.sort_index()"
      ],
      "metadata": {
        "colab": {
          "base_uri": "https://localhost:8080/"
        },
        "id": "OPaH4Kd-6NnH",
        "outputId": "325c8077-62ec-419a-a448-0b4f7f36885f"
      },
      "execution_count": null,
      "outputs": [
        {
          "output_type": "execute_result",
          "data": {
            "text/plain": [
              "0    445\n",
              "1     53\n",
              "2     40\n",
              "3      2\n",
              "4      4\n",
              "5      4\n",
              "6      1\n",
              "Name: Parch, dtype: int64"
            ]
          },
          "metadata": {},
          "execution_count": 44
        }
      ]
    },
    {
      "cell_type": "markdown",
      "source": [
        "## FacetGrid"
      ],
      "metadata": {
        "id": "EP9fNxRXExJ_"
      }
    },
    {
      "cell_type": "code",
      "source": [
        "FacetGrid = sns.FacetGrid(train, row='Embarked', height=4.5, aspect=1.6)\n",
        "FacetGrid.map(sns.pointplot, 'Pclass', 'Survived', 'Sex', palette=None,  order=None, hue_order=None )\n",
        "FacetGrid.add_legend()"
      ],
      "metadata": {
        "colab": {
          "base_uri": "https://localhost:8080/",
          "height": 1000
        },
        "id": "hFoX2S9TEzkL",
        "outputId": "ef488637-837d-4a40-e333-b81f62be0347"
      },
      "execution_count": null,
      "outputs": [
        {
          "output_type": "execute_result",
          "data": {
            "text/plain": [
              "<seaborn.axisgrid.FacetGrid at 0x7ff217b59a50>"
            ]
          },
          "metadata": {},
          "execution_count": 56
        },
        {
          "output_type": "display_data",
          "data": {
            "text/plain": [
              "<Figure size 588.9x972 with 3 Axes>"
            ],
            "image/png": "[encoded data removed]"
          },
          "metadata": {
            "needs_background": "light"
          }
        }
      ]
    },
    {
      "cell_type": "markdown",
      "source": [
        "## Cabin"
      ],
      "metadata": {
        "id": "yEZ65jp1Rq1f"
      }
    },
    {
      "cell_type": "code",
      "source": [
        "train['Cabin'].value_counts()"
      ],
      "metadata": {
        "colab": {
          "base_uri": "https://localhost:8080/"
        },
        "id": "SnhMllZgRqDP",
        "outputId": "b58779ac-729b-4ed5-cddd-402acb00d930"
      },
      "execution_count": null,
      "outputs": [
        {
          "output_type": "execute_result",
          "data": {
            "text/plain": [
              "8.0    687\n",
              "3.0     59\n",
              "2.0     47\n",
              "4.0     33\n",
              "5.0     32\n",
              "1.0     15\n",
              "6.0     13\n",
              "7.0      4\n",
              "U        1\n",
              "Name: Cabin, dtype: int64"
            ]
          },
          "metadata": {},
          "execution_count": 98
        }
      ]
    },
    {
      "cell_type": "code",
      "source": [
        "deck = {\"A\": 1, \"B\": 2, \"C\": 3, \"D\": 4, \"E\": 5, \"F\": 6, \"G\": 7, \"U\": 8}\n",
        "data = [train, test]\n",
        "\n",
        "for dataset in data:\n",
        "    dataset['Cabin'] = dataset['Cabin'].fillna(\"U\")\n",
        "    dataset['Cabin'] = dataset['Cabin'].map(lambda x: re.compile(\"([a-zA-Z]+)\").search(x).group())\n",
        "    dataset['Cabin'] = dataset['Cabin'].map(deck)\n",
        "    #dataset['Cabin'] = dataset['Cabin'].fillna(0)\n",
        "    #dataset['Cabin'] = dataset['Cabin'].astype(int)"
      ],
      "metadata": {
        "id": "UE55VxWUlIQL"
      },
      "execution_count": null,
      "outputs": []
    },
    {
      "cell_type": "markdown",
      "source": [
        "## Pre-process the dataset"
      ],
      "metadata": {
        "id": "2EEeEH52-aMy"
      }
    },
    {
      "cell_type": "code",
      "source": [
        "y_train = test.merge(genderSubmission, how='inner', on='PassengerId')\n",
        "test_df = y_train.copy()\n",
        "X_test = train['Survived']\n",
        "y_test = y_train['Survived']\n",
        "X_train = train[['Age', 'Pclass', 'Sex', 'SibSp', 'Parch', 'Fare', 'Embarked']]\n",
        "y_train = y_train[['Age', 'Pclass', 'Sex', 'SibSp', 'Parch', 'Fare', 'Embarked']]"
      ],
      "metadata": {
        "id": "KAVMmlaBNx62"
      },
      "execution_count": null,
      "outputs": []
    },
    {
      "cell_type": "code",
      "source": [
        "def preprocess(dataframe):\n",
        "  dataframe[\"Pclass\"] = dataframe[\"Pclass\"].astype(float)\n",
        "  dataframe[\"SibSp\"] = dataframe[\"SibSp\"].astype(float)\n",
        "  dataframe[\"Parch\"] = dataframe[\"Parch\"].astype(float)\n",
        "  dataframe['Sex'] = dataframe['Sex'].str.replace('female','1')\n",
        "  dataframe['Sex'] = dataframe['Sex'].str.replace('male','0')\n",
        "  dataframe[\"Sex\"] = dataframe[\"Sex\"].astype(float)\n",
        "  dataframe['Embarked'] = dataframe['Embarked'].str.replace('C', '1')\n",
        "  dataframe['Embarked'] = dataframe['Embarked'].str.replace('Q', '2')\n",
        "  dataframe['Embarked'] = dataframe['Embarked'].str.replace('S', '3')\n",
        "  dataframe[\"Embarked\"] = dataframe[\"Embarked\"].astype(float)\n",
        "  dataframe = dataframe.fillna(1.1)\n",
        "  return dataframe\n",
        "\n",
        "X_train = preprocess(X_train)\n",
        "y_train = preprocess(y_train)"
      ],
      "metadata": {
        "id": "OToiaTE8PLf2"
      },
      "execution_count": null,
      "outputs": []
    },
    {
      "cell_type": "code",
      "source": [
        "y_test.isnull().sum()"
      ],
      "metadata": {
        "colab": {
          "base_uri": "https://localhost:8080/"
        },
        "id": "LcbPUloPNg91",
        "outputId": "3480665a-85ca-4285-fbff-5d1ea6280cf0"
      },
      "execution_count": null,
      "outputs": [
        {
          "output_type": "execute_result",
          "data": {
            "text/plain": [
              "0"
            ]
          },
          "metadata": {},
          "execution_count": 195
        }
      ]
    },
    {
      "cell_type": "markdown",
      "source": [
        "# Defining the model"
      ],
      "metadata": {
        "id": "ig8dbXU8C74X"
      }
    },
    {
      "cell_type": "code",
      "source": [
        "n_features = X_train.shape[1]\n",
        "model = Sequential()\n",
        "model.add(Input(shape=(n_features,)))\n",
        "model.add(Dense(16, activation='relu'))\n",
        "model.add(Dense(1, activation='sigmoid'))\n",
        "model.compile(optimizer='adam', loss='binary_crossentropy', metrics=['accuracy'])\n",
        "#model.summary()\n",
        "model.fit(X_train, X_test, epochs=100, batch_size=30)\n",
        "loss, acc = model.evaluate(y_train, y_test, verbose=0)\n",
        "print('Test Accuracy: %.3f' % acc)"
      ],
      "metadata": {
        "colab": {
          "base_uri": "https://localhost:8080/"
        },
        "id": "jUVwfX9vDCrz",
        "outputId": "d6da6599-abfa-4e01-b373-43705dc818d8"
      },
      "execution_count": null,
      "outputs": [
        {
          "output_type": "stream",
          "name": "stdout",
          "text": [
            "Epoch 1/100\n",
            "30/30 [==============================] - 1s 3ms/step - loss: 0.8110 - accuracy: 0.6734\n",
            "Epoch 2/100\n",
            "30/30 [==============================] - 0s 3ms/step - loss: 0.6383 - accuracy: 0.6678\n",
            "Epoch 3/100\n",
            "30/30 [==============================] - 0s 3ms/step - loss: 0.6058 - accuracy: 0.6936\n",
            "Epoch 4/100\n",
            "30/30 [==============================] - 0s 3ms/step - loss: 0.5946 - accuracy: 0.6925\n",
            "Epoch 5/100\n",
            "30/30 [==============================] - 0s 3ms/step - loss: 0.5811 - accuracy: 0.7037\n",
            "Epoch 6/100\n",
            "30/30 [==============================] - 0s 2ms/step - loss: 0.5763 - accuracy: 0.6970\n",
            "Epoch 7/100\n",
            "30/30 [==============================] - 0s 2ms/step - loss: 0.5871 - accuracy: 0.6981\n",
            "Epoch 8/100\n",
            "30/30 [==============================] - 0s 2ms/step - loss: 0.5784 - accuracy: 0.7037\n",
            "Epoch 9/100\n",
            "30/30 [==============================] - 0s 2ms/step - loss: 0.5640 - accuracy: 0.7172\n",
            "Epoch 10/100\n",
            "30/30 [==============================] - 0s 2ms/step - loss: 0.5602 - accuracy: 0.7205\n",
            "Epoch 11/100\n",
            "30/30 [==============================] - 0s 2ms/step - loss: 0.5460 - accuracy: 0.7239\n",
            "Epoch 12/100\n",
            "30/30 [==============================] - 0s 2ms/step - loss: 0.5449 - accuracy: 0.7205\n",
            "Epoch 13/100\n",
            "30/30 [==============================] - 0s 2ms/step - loss: 0.5386 - accuracy: 0.7138\n",
            "Epoch 14/100\n",
            "30/30 [==============================] - 0s 2ms/step - loss: 0.5529 - accuracy: 0.7217\n",
            "Epoch 15/100\n",
            "30/30 [==============================] - 0s 2ms/step - loss: 0.5332 - accuracy: 0.7329\n",
            "Epoch 16/100\n",
            "30/30 [==============================] - 0s 2ms/step - loss: 0.5318 - accuracy: 0.7306\n",
            "Epoch 17/100\n",
            "30/30 [==============================] - 0s 2ms/step - loss: 0.5110 - accuracy: 0.7643\n",
            "Epoch 18/100\n",
            "30/30 [==============================] - 0s 2ms/step - loss: 0.4949 - accuracy: 0.7677\n",
            "Epoch 19/100\n",
            "30/30 [==============================] - 0s 2ms/step - loss: 0.4979 - accuracy: 0.7699\n",
            "Epoch 20/100\n",
            "30/30 [==============================] - 0s 2ms/step - loss: 0.4910 - accuracy: 0.7755\n",
            "Epoch 21/100\n",
            "30/30 [==============================] - 0s 2ms/step - loss: 0.4785 - accuracy: 0.7879\n",
            "Epoch 22/100\n",
            "30/30 [==============================] - 0s 2ms/step - loss: 0.4792 - accuracy: 0.7823\n",
            "Epoch 23/100\n",
            "30/30 [==============================] - 0s 3ms/step - loss: 0.5076 - accuracy: 0.7666\n",
            "Epoch 24/100\n",
            "30/30 [==============================] - 0s 2ms/step - loss: 0.4666 - accuracy: 0.7901\n",
            "Epoch 25/100\n",
            "30/30 [==============================] - 0s 2ms/step - loss: 0.4742 - accuracy: 0.7856\n",
            "Epoch 26/100\n",
            "30/30 [==============================] - 0s 2ms/step - loss: 0.4644 - accuracy: 0.7856\n",
            "Epoch 27/100\n",
            "30/30 [==============================] - 0s 2ms/step - loss: 0.4550 - accuracy: 0.7890\n",
            "Epoch 28/100\n",
            "30/30 [==============================] - 0s 2ms/step - loss: 0.4683 - accuracy: 0.7890\n",
            "Epoch 29/100\n",
            "30/30 [==============================] - 0s 2ms/step - loss: 0.4718 - accuracy: 0.7800\n",
            "Epoch 30/100\n",
            "30/30 [==============================] - 0s 2ms/step - loss: 0.4606 - accuracy: 0.7845\n",
            "Epoch 31/100\n",
            "30/30 [==============================] - 0s 2ms/step - loss: 0.4462 - accuracy: 0.7856\n",
            "Epoch 32/100\n",
            "30/30 [==============================] - 0s 2ms/step - loss: 0.4464 - accuracy: 0.7823\n",
            "Epoch 33/100\n",
            "30/30 [==============================] - 0s 2ms/step - loss: 0.4522 - accuracy: 0.7946\n",
            "Epoch 34/100\n",
            "30/30 [==============================] - 0s 2ms/step - loss: 0.4715 - accuracy: 0.7722\n",
            "Epoch 35/100\n",
            "30/30 [==============================] - 0s 2ms/step - loss: 0.4496 - accuracy: 0.7901\n",
            "Epoch 36/100\n",
            "30/30 [==============================] - 0s 2ms/step - loss: 0.4528 - accuracy: 0.7868\n",
            "Epoch 37/100\n",
            "30/30 [==============================] - 0s 2ms/step - loss: 0.4421 - accuracy: 0.7980\n",
            "Epoch 38/100\n",
            "30/30 [==============================] - 0s 2ms/step - loss: 0.4436 - accuracy: 0.7980\n",
            "Epoch 39/100\n",
            "30/30 [==============================] - 0s 2ms/step - loss: 0.4675 - accuracy: 0.7845\n",
            "Epoch 40/100\n",
            "30/30 [==============================] - 0s 2ms/step - loss: 0.4413 - accuracy: 0.7957\n",
            "Epoch 41/100\n",
            "30/30 [==============================] - 0s 2ms/step - loss: 0.4651 - accuracy: 0.7744\n",
            "Epoch 42/100\n",
            "30/30 [==============================] - 0s 2ms/step - loss: 0.4367 - accuracy: 0.8058\n",
            "Epoch 43/100\n",
            "30/30 [==============================] - 0s 2ms/step - loss: 0.4571 - accuracy: 0.7879\n",
            "Epoch 44/100\n",
            "30/30 [==============================] - 0s 2ms/step - loss: 0.4296 - accuracy: 0.7957\n",
            "Epoch 45/100\n",
            "30/30 [==============================] - 0s 2ms/step - loss: 0.4620 - accuracy: 0.7868\n",
            "Epoch 46/100\n",
            "30/30 [==============================] - 0s 2ms/step - loss: 0.4517 - accuracy: 0.7868\n",
            "Epoch 47/100\n",
            "30/30 [==============================] - 0s 2ms/step - loss: 0.4543 - accuracy: 0.7823\n",
            "Epoch 48/100\n",
            "30/30 [==============================] - 0s 2ms/step - loss: 0.4403 - accuracy: 0.7901\n",
            "Epoch 49/100\n",
            "30/30 [==============================] - 0s 2ms/step - loss: 0.4409 - accuracy: 0.7890\n",
            "Epoch 50/100\n",
            "30/30 [==============================] - 0s 2ms/step - loss: 0.4346 - accuracy: 0.7890\n",
            "Epoch 51/100\n",
            "30/30 [==============================] - 0s 2ms/step - loss: 0.4356 - accuracy: 0.7935\n",
            "Epoch 52/100\n",
            "30/30 [==============================] - 0s 2ms/step - loss: 0.4275 - accuracy: 0.8002\n",
            "Epoch 53/100\n",
            "30/30 [==============================] - 0s 2ms/step - loss: 0.4347 - accuracy: 0.7845\n",
            "Epoch 54/100\n",
            "30/30 [==============================] - 0s 2ms/step - loss: 0.4375 - accuracy: 0.8025\n",
            "Epoch 55/100\n",
            "30/30 [==============================] - 0s 2ms/step - loss: 0.4439 - accuracy: 0.7980\n",
            "Epoch 56/100\n",
            "30/30 [==============================] - 0s 2ms/step - loss: 0.4442 - accuracy: 0.7823\n",
            "Epoch 57/100\n",
            "30/30 [==============================] - 0s 2ms/step - loss: 0.4351 - accuracy: 0.7946\n",
            "Epoch 58/100\n",
            "30/30 [==============================] - 0s 2ms/step - loss: 0.4329 - accuracy: 0.7935\n",
            "Epoch 59/100\n",
            "30/30 [==============================] - 0s 2ms/step - loss: 0.4379 - accuracy: 0.7845\n",
            "Epoch 60/100\n",
            "30/30 [==============================] - 0s 2ms/step - loss: 0.4437 - accuracy: 0.7924\n",
            "Epoch 61/100\n",
            "30/30 [==============================] - 0s 2ms/step - loss: 0.4529 - accuracy: 0.7845\n",
            "Epoch 62/100\n",
            "30/30 [==============================] - 0s 2ms/step - loss: 0.4457 - accuracy: 0.7991\n",
            "Epoch 63/100\n",
            "30/30 [==============================] - 0s 2ms/step - loss: 0.4535 - accuracy: 0.7890\n",
            "Epoch 64/100\n",
            "30/30 [==============================] - 0s 2ms/step - loss: 0.4756 - accuracy: 0.7856\n",
            "Epoch 65/100\n",
            "30/30 [==============================] - 0s 2ms/step - loss: 0.4306 - accuracy: 0.7946\n",
            "Epoch 66/100\n",
            "30/30 [==============================] - 0s 2ms/step - loss: 0.4271 - accuracy: 0.8013\n",
            "Epoch 67/100\n",
            "30/30 [==============================] - 0s 2ms/step - loss: 0.4281 - accuracy: 0.7969\n",
            "Epoch 68/100\n",
            "30/30 [==============================] - 0s 2ms/step - loss: 0.4302 - accuracy: 0.7957\n",
            "Epoch 69/100\n",
            "30/30 [==============================] - 0s 2ms/step - loss: 0.4361 - accuracy: 0.7924\n",
            "Epoch 70/100\n",
            "30/30 [==============================] - 0s 2ms/step - loss: 0.4335 - accuracy: 0.7912\n",
            "Epoch 71/100\n",
            "30/30 [==============================] - 0s 2ms/step - loss: 0.4449 - accuracy: 0.7991\n",
            "Epoch 72/100\n",
            "30/30 [==============================] - 0s 2ms/step - loss: 0.4592 - accuracy: 0.7800\n",
            "Epoch 73/100\n",
            "30/30 [==============================] - 0s 2ms/step - loss: 0.4419 - accuracy: 0.7924\n",
            "Epoch 74/100\n",
            "30/30 [==============================] - 0s 2ms/step - loss: 0.4267 - accuracy: 0.7980\n",
            "Epoch 75/100\n",
            "30/30 [==============================] - 0s 2ms/step - loss: 0.4350 - accuracy: 0.7935\n",
            "Epoch 76/100\n",
            "30/30 [==============================] - 0s 2ms/step - loss: 0.4321 - accuracy: 0.7901\n",
            "Epoch 77/100\n",
            "30/30 [==============================] - 0s 2ms/step - loss: 0.4377 - accuracy: 0.7935\n",
            "Epoch 78/100\n",
            "30/30 [==============================] - 0s 2ms/step - loss: 0.4312 - accuracy: 0.7969\n",
            "Epoch 79/100\n",
            "30/30 [==============================] - 0s 2ms/step - loss: 0.4487 - accuracy: 0.7912\n",
            "Epoch 80/100\n",
            "30/30 [==============================] - 0s 2ms/step - loss: 0.4286 - accuracy: 0.7935\n",
            "Epoch 81/100\n",
            "30/30 [==============================] - 0s 2ms/step - loss: 0.4258 - accuracy: 0.7957\n",
            "Epoch 82/100\n",
            "30/30 [==============================] - 0s 2ms/step - loss: 0.4417 - accuracy: 0.7879\n",
            "Epoch 83/100\n",
            "30/30 [==============================] - 0s 2ms/step - loss: 0.4339 - accuracy: 0.7935\n",
            "Epoch 84/100\n",
            "30/30 [==============================] - 0s 2ms/step - loss: 0.4249 - accuracy: 0.8013\n",
            "Epoch 85/100\n",
            "30/30 [==============================] - 0s 2ms/step - loss: 0.4205 - accuracy: 0.8002\n",
            "Epoch 86/100\n",
            "30/30 [==============================] - 0s 2ms/step - loss: 0.4189 - accuracy: 0.7946\n",
            "Epoch 87/100\n",
            "30/30 [==============================] - 0s 2ms/step - loss: 0.4343 - accuracy: 0.7924\n",
            "Epoch 88/100\n",
            "30/30 [==============================] - 0s 2ms/step - loss: 0.4317 - accuracy: 0.7946\n",
            "Epoch 89/100\n",
            "30/30 [==============================] - 0s 2ms/step - loss: 0.4292 - accuracy: 0.7980\n",
            "Epoch 90/100\n",
            "30/30 [==============================] - 0s 2ms/step - loss: 0.4200 - accuracy: 0.8013\n",
            "Epoch 91/100\n",
            "30/30 [==============================] - 0s 2ms/step - loss: 0.4229 - accuracy: 0.8002\n",
            "Epoch 92/100\n",
            "30/30 [==============================] - 0s 2ms/step - loss: 0.4222 - accuracy: 0.8013\n",
            "Epoch 93/100\n",
            "30/30 [==============================] - 0s 2ms/step - loss: 0.4198 - accuracy: 0.8036\n",
            "Epoch 94/100\n",
            "30/30 [==============================] - 0s 2ms/step - loss: 0.4275 - accuracy: 0.7935\n",
            "Epoch 95/100\n",
            "30/30 [==============================] - 0s 2ms/step - loss: 0.4299 - accuracy: 0.7957\n",
            "Epoch 96/100\n",
            "30/30 [==============================] - 0s 2ms/step - loss: 0.4217 - accuracy: 0.8025\n",
            "Epoch 97/100\n",
            "30/30 [==============================] - 0s 2ms/step - loss: 0.4415 - accuracy: 0.7946\n",
            "Epoch 98/100\n",
            "30/30 [==============================] - 0s 2ms/step - loss: 0.4944 - accuracy: 0.7767\n",
            "Epoch 99/100\n",
            "30/30 [==============================] - 0s 2ms/step - loss: 0.4861 - accuracy: 0.7755\n",
            "Epoch 100/100\n",
            "30/30 [==============================] - 0s 2ms/step - loss: 0.4263 - accuracy: 0.8025\n",
            "Test Accuracy: 0.921\n"
          ]
        }
      ]
    },
    {
      "cell_type": "markdown",
      "source": [
        "# Results"
      ],
      "metadata": {
        "id": "mvqP6R0TWyUa"
      }
    },
    {
      "cell_type": "code",
      "source": [
        "for i in range(0, 50):\n",
        "  y_prob = model.predict(y_train.iloc[[i]])\n",
        "  y_prob = y_prob[0]*100\n",
        "  #print(y_prob)\n",
        "  value = test_df.iloc[i]['Survived']\n",
        "  if y_prob>50:\n",
        "    predicted = 1\n",
        "  else:\n",
        "    predicted = 0\n",
        "  print(f'predicted label is: {predicted} ---> original answer is: {value}')\n",
        "  "
      ],
      "metadata": {
        "colab": {
          "base_uri": "https://localhost:8080/"
        },
        "id": "NDiouyBq7GIo",
        "outputId": "578b8cb5-4bf6-424d-afb4-13da8182c28e"
      },
      "execution_count": null,
      "outputs": [
        {
          "output_type": "stream",
          "name": "stdout",
          "text": [
            "predicted label is: 0 ---> original answer is: 0\n",
            "predicted label is: 0 ---> original answer is: 1\n",
            "predicted label is: 0 ---> original answer is: 0\n",
            "predicted label is: 0 ---> original answer is: 0\n",
            "predicted label is: 1 ---> original answer is: 1\n",
            "predicted label is: 0 ---> original answer is: 0\n",
            "predicted label is: 1 ---> original answer is: 1\n",
            "predicted label is: 0 ---> original answer is: 0\n",
            "predicted label is: 1 ---> original answer is: 1\n",
            "predicted label is: 0 ---> original answer is: 0\n",
            "predicted label is: 0 ---> original answer is: 0\n",
            "predicted label is: 0 ---> original answer is: 0\n",
            "predicted label is: 1 ---> original answer is: 1\n",
            "predicted label is: 0 ---> original answer is: 0\n",
            "predicted label is: 1 ---> original answer is: 1\n",
            "predicted label is: 1 ---> original answer is: 1\n",
            "predicted label is: 0 ---> original answer is: 0\n",
            "predicted label is: 0 ---> original answer is: 0\n",
            "predicted label is: 1 ---> original answer is: 1\n",
            "predicted label is: 0 ---> original answer is: 1\n",
            "predicted label is: 0 ---> original answer is: 0\n",
            "predicted label is: 0 ---> original answer is: 0\n",
            "predicted label is: 1 ---> original answer is: 1\n",
            "predicted label is: 0 ---> original answer is: 0\n",
            "predicted label is: 1 ---> original answer is: 1\n",
            "predicted label is: 0 ---> original answer is: 0\n",
            "predicted label is: 1 ---> original answer is: 1\n",
            "predicted label is: 0 ---> original answer is: 0\n",
            "predicted label is: 0 ---> original answer is: 0\n",
            "predicted label is: 0 ---> original answer is: 0\n",
            "predicted label is: 0 ---> original answer is: 0\n",
            "predicted label is: 0 ---> original answer is: 0\n",
            "predicted label is: 1 ---> original answer is: 1\n",
            "predicted label is: 1 ---> original answer is: 1\n",
            "predicted label is: 0 ---> original answer is: 0\n",
            "predicted label is: 0 ---> original answer is: 0\n",
            "predicted label is: 1 ---> original answer is: 1\n",
            "predicted label is: 1 ---> original answer is: 1\n",
            "predicted label is: 0 ---> original answer is: 0\n",
            "predicted label is: 0 ---> original answer is: 0\n",
            "predicted label is: 0 ---> original answer is: 0\n",
            "predicted label is: 0 ---> original answer is: 0\n",
            "predicted label is: 0 ---> original answer is: 0\n",
            "predicted label is: 1 ---> original answer is: 1\n",
            "predicted label is: 1 ---> original answer is: 1\n",
            "predicted label is: 0 ---> original answer is: 0\n",
            "predicted label is: 0 ---> original answer is: 0\n",
            "predicted label is: 0 ---> original answer is: 0\n",
            "predicted label is: 1 ---> original answer is: 1\n",
            "predicted label is: 1 ---> original answer is: 1\n"
          ]
        }
      ]
    },
    {
      "cell_type": "markdown",
      "source": [
        "# To Submit Kaggle"
      ],
      "metadata": {
        "id": "jvSt0b4EX4wL"
      }
    },
    {
      "cell_type": "code",
      "source": [
        "n_features = X_train.shape[1]\n",
        "model_s = Sequential()\n",
        "model_s.add(Input(shape=(n_features,)))\n",
        "model_s.add(Dense(16, activation='relu'))\n",
        "model_s.add(Dense(1, activation='sigmoid'))\n",
        "model_s.compile(optimizer='adam', loss='binary_crossentropy', metrics=['accuracy'])\n",
        "#model.summary()\n",
        "model_s.fit(X_train, X_test, epochs=100, batch_size=30)"
      ],
      "metadata": {
        "colab": {
          "base_uri": "https://localhost:8080/"
        },
        "id": "kv-lMb-8X4I3",
        "outputId": "36483637-b860-4c46-ada9-c5d4c9210741"
      },
      "execution_count": null,
      "outputs": [
        {
          "output_type": "stream",
          "name": "stdout",
          "text": [
            "Epoch 1/100\n",
            "30/30 [==============================] - 0s 1ms/step - loss: 3.8240 - accuracy: 0.4456\n",
            "Epoch 2/100\n",
            "30/30 [==============================] - 0s 1ms/step - loss: 1.3746 - accuracy: 0.5264\n",
            "Epoch 3/100\n",
            "30/30 [==============================] - 0s 1ms/step - loss: 0.8223 - accuracy: 0.6543\n",
            "Epoch 4/100\n",
            "30/30 [==============================] - 0s 2ms/step - loss: 0.7598 - accuracy: 0.6554\n",
            "Epoch 5/100\n",
            "30/30 [==============================] - 0s 1ms/step - loss: 0.7215 - accuracy: 0.6510\n",
            "Epoch 6/100\n",
            "30/30 [==============================] - 0s 2ms/step - loss: 0.6830 - accuracy: 0.6554\n",
            "Epoch 7/100\n",
            "30/30 [==============================] - 0s 2ms/step - loss: 0.6473 - accuracy: 0.6723\n",
            "Epoch 8/100\n",
            "30/30 [==============================] - 0s 2ms/step - loss: 0.6274 - accuracy: 0.6846\n",
            "Epoch 9/100\n",
            "30/30 [==============================] - 0s 2ms/step - loss: 0.6086 - accuracy: 0.6813\n",
            "Epoch 10/100\n",
            "30/30 [==============================] - 0s 2ms/step - loss: 0.6000 - accuracy: 0.6824\n",
            "Epoch 11/100\n",
            "30/30 [==============================] - 0s 2ms/step - loss: 0.5872 - accuracy: 0.6925\n",
            "Epoch 12/100\n",
            "30/30 [==============================] - 0s 2ms/step - loss: 0.5827 - accuracy: 0.6992\n",
            "Epoch 13/100\n",
            "30/30 [==============================] - 0s 1ms/step - loss: 0.5697 - accuracy: 0.7015\n",
            "Epoch 14/100\n",
            "30/30 [==============================] - 0s 1ms/step - loss: 0.5569 - accuracy: 0.7228\n",
            "Epoch 15/100\n",
            "30/30 [==============================] - 0s 1ms/step - loss: 0.5599 - accuracy: 0.7160\n",
            "Epoch 16/100\n",
            "30/30 [==============================] - 0s 1ms/step - loss: 0.5508 - accuracy: 0.7262\n",
            "Epoch 17/100\n",
            "30/30 [==============================] - 0s 1ms/step - loss: 0.5423 - accuracy: 0.7351\n",
            "Epoch 18/100\n",
            "30/30 [==============================] - 0s 2ms/step - loss: 0.5352 - accuracy: 0.7374\n",
            "Epoch 19/100\n",
            "30/30 [==============================] - 0s 2ms/step - loss: 0.5322 - accuracy: 0.7475\n",
            "Epoch 20/100\n",
            "30/30 [==============================] - 0s 2ms/step - loss: 0.5259 - accuracy: 0.7452\n",
            "Epoch 21/100\n",
            "30/30 [==============================] - 0s 2ms/step - loss: 0.5191 - accuracy: 0.7598\n",
            "Epoch 22/100\n",
            "30/30 [==============================] - 0s 2ms/step - loss: 0.5128 - accuracy: 0.7632\n",
            "Epoch 23/100\n",
            "30/30 [==============================] - 0s 1ms/step - loss: 0.5084 - accuracy: 0.7677\n",
            "Epoch 24/100\n",
            "30/30 [==============================] - 0s 1ms/step - loss: 0.5056 - accuracy: 0.7823\n",
            "Epoch 25/100\n",
            "30/30 [==============================] - 0s 1ms/step - loss: 0.5023 - accuracy: 0.7823\n",
            "Epoch 26/100\n",
            "30/30 [==============================] - 0s 2ms/step - loss: 0.4928 - accuracy: 0.7789\n",
            "Epoch 27/100\n",
            "30/30 [==============================] - 0s 1ms/step - loss: 0.4882 - accuracy: 0.7845\n",
            "Epoch 28/100\n",
            "30/30 [==============================] - 0s 1ms/step - loss: 0.4847 - accuracy: 0.7912\n",
            "Epoch 29/100\n",
            "30/30 [==============================] - 0s 1ms/step - loss: 0.4823 - accuracy: 0.7957\n",
            "Epoch 30/100\n",
            "30/30 [==============================] - 0s 1ms/step - loss: 0.4893 - accuracy: 0.7823\n",
            "Epoch 31/100\n",
            "30/30 [==============================] - 0s 1ms/step - loss: 0.4766 - accuracy: 0.7879\n",
            "Epoch 32/100\n",
            "30/30 [==============================] - 0s 1ms/step - loss: 0.4732 - accuracy: 0.7935\n",
            "Epoch 33/100\n",
            "30/30 [==============================] - 0s 1ms/step - loss: 0.4795 - accuracy: 0.7778\n",
            "Epoch 34/100\n",
            "30/30 [==============================] - 0s 1ms/step - loss: 0.4750 - accuracy: 0.7879\n",
            "Epoch 35/100\n",
            "30/30 [==============================] - 0s 2ms/step - loss: 0.4707 - accuracy: 0.7901\n",
            "Epoch 36/100\n",
            "30/30 [==============================] - 0s 1ms/step - loss: 0.4669 - accuracy: 0.7834\n",
            "Epoch 37/100\n",
            "30/30 [==============================] - 0s 2ms/step - loss: 0.4635 - accuracy: 0.7991\n",
            "Epoch 38/100\n",
            "30/30 [==============================] - 0s 1ms/step - loss: 0.4650 - accuracy: 0.7901\n",
            "Epoch 39/100\n",
            "30/30 [==============================] - 0s 1ms/step - loss: 0.4652 - accuracy: 0.7845\n",
            "Epoch 40/100\n",
            "30/30 [==============================] - 0s 2ms/step - loss: 0.4632 - accuracy: 0.7924\n",
            "Epoch 41/100\n",
            "30/30 [==============================] - 0s 1ms/step - loss: 0.4729 - accuracy: 0.7789\n",
            "Epoch 42/100\n",
            "30/30 [==============================] - 0s 2ms/step - loss: 0.4581 - accuracy: 0.7890\n",
            "Epoch 43/100\n",
            "30/30 [==============================] - 0s 1ms/step - loss: 0.4553 - accuracy: 0.7924\n",
            "Epoch 44/100\n",
            "30/30 [==============================] - 0s 2ms/step - loss: 0.4623 - accuracy: 0.7946\n",
            "Epoch 45/100\n",
            "30/30 [==============================] - 0s 1ms/step - loss: 0.4560 - accuracy: 0.7845\n",
            "Epoch 46/100\n",
            "30/30 [==============================] - 0s 1ms/step - loss: 0.4568 - accuracy: 0.7845\n",
            "Epoch 47/100\n",
            "30/30 [==============================] - 0s 1ms/step - loss: 0.4664 - accuracy: 0.7890\n",
            "Epoch 48/100\n",
            "30/30 [==============================] - 0s 1ms/step - loss: 0.4568 - accuracy: 0.7901\n",
            "Epoch 49/100\n",
            "30/30 [==============================] - 0s 1ms/step - loss: 0.4554 - accuracy: 0.7935\n",
            "Epoch 50/100\n",
            "30/30 [==============================] - 0s 2ms/step - loss: 0.4494 - accuracy: 0.7924\n",
            "Epoch 51/100\n",
            "30/30 [==============================] - 0s 2ms/step - loss: 0.4528 - accuracy: 0.7991\n",
            "Epoch 52/100\n",
            "30/30 [==============================] - 0s 2ms/step - loss: 0.4695 - accuracy: 0.7856\n",
            "Epoch 53/100\n",
            "30/30 [==============================] - 0s 2ms/step - loss: 0.4493 - accuracy: 0.7924\n",
            "Epoch 54/100\n",
            "30/30 [==============================] - 0s 1ms/step - loss: 0.4509 - accuracy: 0.7868\n",
            "Epoch 55/100\n",
            "30/30 [==============================] - 0s 1ms/step - loss: 0.4483 - accuracy: 0.7823\n",
            "Epoch 56/100\n",
            "30/30 [==============================] - 0s 1ms/step - loss: 0.4449 - accuracy: 0.7924\n",
            "Epoch 57/100\n",
            "30/30 [==============================] - 0s 1ms/step - loss: 0.4521 - accuracy: 0.7823\n",
            "Epoch 58/100\n",
            "30/30 [==============================] - 0s 1ms/step - loss: 0.4533 - accuracy: 0.7868\n",
            "Epoch 59/100\n",
            "30/30 [==============================] - 0s 1ms/step - loss: 0.4563 - accuracy: 0.7890\n",
            "Epoch 60/100\n",
            "30/30 [==============================] - 0s 1ms/step - loss: 0.4611 - accuracy: 0.7868\n",
            "Epoch 61/100\n",
            "30/30 [==============================] - 0s 2ms/step - loss: 0.4532 - accuracy: 0.7879\n",
            "Epoch 62/100\n",
            "30/30 [==============================] - 0s 1ms/step - loss: 0.4471 - accuracy: 0.7868\n",
            "Epoch 63/100\n",
            "30/30 [==============================] - 0s 1ms/step - loss: 0.4430 - accuracy: 0.7969\n",
            "Epoch 64/100\n",
            "30/30 [==============================] - 0s 1ms/step - loss: 0.4450 - accuracy: 0.7980\n",
            "Epoch 65/100\n",
            "30/30 [==============================] - 0s 1ms/step - loss: 0.4537 - accuracy: 0.7890\n",
            "Epoch 66/100\n",
            "30/30 [==============================] - 0s 2ms/step - loss: 0.4458 - accuracy: 0.7845\n",
            "Epoch 67/100\n",
            "30/30 [==============================] - 0s 2ms/step - loss: 0.4451 - accuracy: 0.7969\n",
            "Epoch 68/100\n",
            "30/30 [==============================] - 0s 1ms/step - loss: 0.4404 - accuracy: 0.7901\n",
            "Epoch 69/100\n",
            "30/30 [==============================] - 0s 1ms/step - loss: 0.4469 - accuracy: 0.7957\n",
            "Epoch 70/100\n",
            "30/30 [==============================] - 0s 2ms/step - loss: 0.4419 - accuracy: 0.7856\n",
            "Epoch 71/100\n",
            "30/30 [==============================] - 0s 1ms/step - loss: 0.4438 - accuracy: 0.7912\n",
            "Epoch 72/100\n",
            "30/30 [==============================] - 0s 1ms/step - loss: 0.4412 - accuracy: 0.7868\n",
            "Epoch 73/100\n",
            "30/30 [==============================] - 0s 1ms/step - loss: 0.4551 - accuracy: 0.7856\n",
            "Epoch 74/100\n",
            "30/30 [==============================] - 0s 1ms/step - loss: 0.4504 - accuracy: 0.7823\n",
            "Epoch 75/100\n",
            "30/30 [==============================] - 0s 1ms/step - loss: 0.4438 - accuracy: 0.7868\n",
            "Epoch 76/100\n",
            "30/30 [==============================] - 0s 1ms/step - loss: 0.4412 - accuracy: 0.7901\n",
            "Epoch 77/100\n",
            "30/30 [==============================] - 0s 1ms/step - loss: 0.4385 - accuracy: 0.7890\n",
            "Epoch 78/100\n",
            "30/30 [==============================] - 0s 1ms/step - loss: 0.4529 - accuracy: 0.7901\n",
            "Epoch 79/100\n",
            "30/30 [==============================] - 0s 1ms/step - loss: 0.4452 - accuracy: 0.8013\n",
            "Epoch 80/100\n",
            "30/30 [==============================] - 0s 2ms/step - loss: 0.4447 - accuracy: 0.7879\n",
            "Epoch 81/100\n",
            "30/30 [==============================] - 0s 1ms/step - loss: 0.4407 - accuracy: 0.7901\n",
            "Epoch 82/100\n",
            "30/30 [==============================] - 0s 1ms/step - loss: 0.4505 - accuracy: 0.7856\n",
            "Epoch 83/100\n",
            "30/30 [==============================] - 0s 1ms/step - loss: 0.4466 - accuracy: 0.7935\n",
            "Epoch 84/100\n",
            "30/30 [==============================] - 0s 1ms/step - loss: 0.4445 - accuracy: 0.7845\n",
            "Epoch 85/100\n",
            "30/30 [==============================] - 0s 2ms/step - loss: 0.4378 - accuracy: 0.7856\n",
            "Epoch 86/100\n",
            "30/30 [==============================] - 0s 1ms/step - loss: 0.4366 - accuracy: 0.7856\n",
            "Epoch 87/100\n",
            "30/30 [==============================] - 0s 1ms/step - loss: 0.4385 - accuracy: 0.7935\n",
            "Epoch 88/100\n",
            "30/30 [==============================] - 0s 2ms/step - loss: 0.4463 - accuracy: 0.7845\n",
            "Epoch 89/100\n",
            "30/30 [==============================] - 0s 2ms/step - loss: 0.4384 - accuracy: 0.7912\n",
            "Epoch 90/100\n",
            "30/30 [==============================] - 0s 1ms/step - loss: 0.4419 - accuracy: 0.7912\n",
            "Epoch 91/100\n",
            "30/30 [==============================] - 0s 1ms/step - loss: 0.4384 - accuracy: 0.7879\n",
            "Epoch 92/100\n",
            "30/30 [==============================] - 0s 1ms/step - loss: 0.4361 - accuracy: 0.7856\n",
            "Epoch 93/100\n",
            "30/30 [==============================] - 0s 1ms/step - loss: 0.4436 - accuracy: 0.7935\n",
            "Epoch 94/100\n",
            "30/30 [==============================] - 0s 1ms/step - loss: 0.4442 - accuracy: 0.7901\n",
            "Epoch 95/100\n",
            "30/30 [==============================] - 0s 2ms/step - loss: 0.4436 - accuracy: 0.7879\n",
            "Epoch 96/100\n",
            "30/30 [==============================] - 0s 1ms/step - loss: 0.4424 - accuracy: 0.7834\n",
            "Epoch 97/100\n",
            "30/30 [==============================] - 0s 1ms/step - loss: 0.4386 - accuracy: 0.7935\n",
            "Epoch 98/100\n",
            "30/30 [==============================] - 0s 1ms/step - loss: 0.4416 - accuracy: 0.7823\n",
            "Epoch 99/100\n",
            "30/30 [==============================] - 0s 1ms/step - loss: 0.4459 - accuracy: 0.7823\n",
            "Epoch 100/100\n",
            "30/30 [==============================] - 0s 2ms/step - loss: 0.4374 - accuracy: 0.7901\n"
          ]
        },
        {
          "output_type": "execute_result",
          "data": {
            "text/plain": [
              "<keras.callbacks.History at 0x7f6821a24690>"
            ]
          },
          "metadata": {},
          "execution_count": 197
        }
      ]
    },
    {
      "cell_type": "code",
      "source": [
        "submit_list = []\n",
        "for i in range(0, len(y_train)):\n",
        "  y_prob = model_s.predict(y_train.iloc[[i]])\n",
        "  y_prob = y_prob[0]*100\n",
        "  if y_prob>50:\n",
        "    predicted = 1\n",
        "  else:\n",
        "    predicted = 0\n",
        "  submit_list.append(predicted)"
      ],
      "metadata": {
        "id": "bqIYfAp8cgjm"
      },
      "execution_count": null,
      "outputs": []
    },
    {
      "cell_type": "code",
      "source": [
        "submitDataframe = pd.DataFrame()\n",
        "submitDataframe['PassengerId'] = test['PassengerId']\n",
        "submitDataframe['Survived'] = submit_list\n",
        "submitDataframe.head()"
      ],
      "metadata": {
        "colab": {
          "base_uri": "https://localhost:8080/",
          "height": 221
        },
        "id": "m54wfAPsfZE4",
        "outputId": "47dac91b-1ebc-4005-9276-89a7c1d4e7b6"
      },
      "execution_count": null,
      "outputs": [
        {
          "output_type": "execute_result",
          "data": {
            "text/plain": [
              "   PassengerId  Survived\n",
              "0          892         0\n",
              "1          893         0\n",
              "2          894         0\n",
              "3          895         0\n",
              "4          896         1"
            ],
            "text/html": [
              "\n",
              "  <div id=\"df-3414937f-779e-449f-9895-cd844eaa0b0f\">\n",
              "    <div class=\"colab-df-container\">\n",
              "      <div>\n",
              "<style scoped>\n",
              "    .dataframe tbody tr th:only-of-type {\n",
              "        vertical-align: middle;\n",
              "    }\n",
              "\n",
              "    .dataframe tbody tr th {\n",
              "        vertical-align: top;\n",
              "    }\n",
              "\n",
              "    .dataframe thead th {\n",
              "        text-align: right;\n",
              "    }\n",
              "</style>\n",
              "<table border=\"1\" class=\"dataframe\">\n",
              "  <thead>\n",
              "    <tr style=\"text-align: right;\">\n",
              "      <th></th>\n",
              "      <th>PassengerId</th>\n",
              "      <th>Survived</th>\n",
              "    </tr>\n",
              "  </thead>\n",
              "  <tbody>\n",
              "    <tr>\n",
              "      <th>0</th>\n",
              "      <td>892</td>\n",
              "      <td>0</td>\n",
              "    </tr>\n",
              "    <tr>\n",
              "      <th>1</th>\n",
              "      <td>893</td>\n",
              "      <td>0</td>\n",
              "    </tr>\n",
              "    <tr>\n",
              "      <th>2</th>\n",
              "      <td>894</td>\n",
              "      <td>0</td>\n",
              "    </tr>\n",
              "    <tr>\n",
              "      <th>3</th>\n",
              "      <td>895</td>\n",
              "      <td>0</td>\n",
              "    </tr>\n",
              "    <tr>\n",
              "      <th>4</th>\n",
              "      <td>896</td>\n",
              "      <td>1</td>\n",
              "    </tr>\n",
              "  </tbody>\n",
              "</table>\n",
              "</div>\n",
              "      <button class=\"colab-df-convert\" onclick=\"convertToInteractive('df-3414937f-779e-449f-9895-cd844eaa0b0f')\"\n",
              "              title=\"Convert this dataframe to an interactive table.\"\n",
              "              style=\"display:none;\">\n",
              "        \n",
              "  <svg xmlns=\"http://www.w3.org/2000/svg\" height=\"24px\"viewBox=\"0 0 24 24\"\n",
              "       width=\"24px\">\n",
              "    <path d=\"M0 0h24v24H0V0z\" fill=\"none\"/>\n",
              "    <path d=\"M18.56 5.44l.94 2.06.94-2.06 2.06-.94-2.06-.94-.94-2.06-.94 2.06-2.06.94zm-11 1L8.5 8.5l.94-2.06 2.06-.94-2.06-.94L8.5 2.5l-.94 2.06-2.06.94zm10 10l.94 2.06.94-2.06 2.06-.94-2.06-.94-.94-2.06-.94 2.06-2.06.94z\"/><path d=\"M17.41 7.96l-1.37-1.37c-.4-.4-.92-.59-1.43-.59-.52 0-1.04.2-1.43.59L10.3 9.45l-7.72 7.72c-.78.78-.78 2.05 0 2.83L4 21.41c.39.39.9.59 1.41.59.51 0 1.02-.2 1.41-.59l7.78-7.78 2.81-2.81c.8-.78.8-2.07 0-2.86zM5.41 20L4 18.59l7.72-7.72 1.47 1.35L5.41 20z\"/>\n",
              "  </svg>\n",
              "      </button>\n",
              "      \n",
              "  <style>\n",
              "    .colab-df-container {\n",
              "      display:flex;\n",
              "      flex-wrap:wrap;\n",
              "      gap: 12px;\n",
              "    }\n",
              "\n",
              "    .colab-df-convert {\n",
              "      background-color: #E8F0FE;\n",
              "      border: none;\n",
              "      border-radius: 50%;\n",
              "      cursor: pointer;\n",
              "      display: none;\n",
              "      fill: #1967D2;\n",
              "      height: 32px;\n",
              "      padding: 0 0 0 0;\n",
              "      width: 32px;\n",
              "    }\n",
              "\n",
              "    .colab-df-convert:hover {\n",
              "      background-color: #E2EBFA;\n",
              "      box-shadow: 0px 1px 2px rgba(60, 64, 67, 0.3), 0px 1px 3px 1px rgba(60, 64, 67, 0.15);\n",
              "      fill: #174EA6;\n",
              "    }\n",
              "\n",
              "    [theme=dark] .colab-df-convert {\n",
              "      background-color: #3B4455;\n",
              "      fill: #D2E3FC;\n",
              "    }\n",
              "\n",
              "    [theme=dark] .colab-df-convert:hover {\n",
              "      background-color: #434B5C;\n",
              "      box-shadow: 0px 1px 3px 1px rgba(0, 0, 0, 0.15);\n",
              "      filter: drop-shadow(0px 1px 2px rgba(0, 0, 0, 0.3));\n",
              "      fill: #FFFFFF;\n",
              "    }\n",
              "  </style>\n",
              "\n",
              "      <script>\n",
              "        const buttonEl =\n",
              "          document.querySelector('#df-3414937f-779e-449f-9895-cd844eaa0b0f button.colab-df-convert');\n",
              "        buttonEl.style.display =\n",
              "          google.colab.kernel.accessAllowed ? 'block' : 'none';\n",
              "\n",
              "        async function convertToInteractive(key) {\n",
              "          const element = document.querySelector('#df-3414937f-779e-449f-9895-cd844eaa0b0f');\n",
              "          const dataTable =\n",
              "            await google.colab.kernel.invokeFunction('convertToInteractive',\n",
              "                                                     [key], {});\n",
              "          if (!dataTable) return;\n",
              "\n",
              "          const docLinkHtml = 'Like what you see? Visit the ' +\n",
              "            '<a target=\"_blank\" href=https://colab.research.google.com/notebooks/data_table.ipynb>data table notebook</a>'\n",
              "            + ' to learn more about interactive tables.';\n",
              "          element.innerHTML = '';\n",
              "          dataTable['output_type'] = 'display_data';\n",
              "          await google.colab.output.renderOutput(dataTable, element);\n",
              "          const docLink = document.createElement('div');\n",
              "          docLink.innerHTML = docLinkHtml;\n",
              "          element.appendChild(docLink);\n",
              "        }\n",
              "      </script>\n",
              "    </div>\n",
              "  </div>\n",
              "  "
            ]
          },
          "metadata": {},
          "execution_count": 221
        }
      ]
    },
    {
      "cell_type": "code",
      "source": [
        "submitDataframe.to_csv('submit.csv', index=False)"
      ],
      "metadata": {
        "id": "cr4kOJkgg6JV"
      },
      "execution_count": null,
      "outputs": []
    }
  ]
}